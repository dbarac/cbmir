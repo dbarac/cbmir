{
 "cells": [
  {
   "cell_type": "code",
   "execution_count": null,
   "metadata": {},
   "outputs": [],
   "source": [
    "import numpy as np\n",
    "import pandas as pd\n",
    "\n",
    "# for image grid\n",
    "import torch\n",
    "import matplotlib.pyplot as plt\n",
    "from torchvision.utils import make_grid\n",
    "\n",
    "import dataset\n",
    "from utils import *\n",
    "from cnn import *\n",
    "from bow import *\n",
    "from hog import *\n",
    "\n",
    "plt.rcParams[\"figure.figsize\"] = (15,15)"
   ]
  },
  {
   "cell_type": "markdown",
   "metadata": {},
   "source": [
    "## Image retrieval example\n",
    "Retrieve and display 5 most similar images for a query image from the test dataset"
   ]
  },
  {
   "cell_type": "code",
   "execution_count": null,
   "metadata": {},
   "outputs": [],
   "source": [
    "# retrieval methods\n",
    "cnn = CNNModel.load_model(\"./retrieval_methods/cnn_final.pkl\")\n",
    "bow = BoVWModel.load_model(\"./retrieval_methods/bow_final\")\n",
    "hog = HOGModel.load_model(\"./retrieval_methods/hog_final.pkl\")"
   ]
  },
  {
   "cell_type": "code",
   "execution_count": null,
   "metadata": {},
   "outputs": [],
   "source": [
    "train_df = dataset.train_df\n",
    "test_df = dataset.test_df\n",
    "\n",
    "# test images: 0.png,...,7999.png\n",
    "img_idx = 585\n",
    "path = \"../data/test_images/\" + str(img_idx) + \".png\"\n",
    "query_img = cv2.imread(path, cv2.IMREAD_GRAYSCALE)\n",
    "\n",
    "row = test_df.iloc[img_idx]\n",
    "body_part = row[\"BodyPartExaminedFixed\"]\n",
    "\n",
    "k = 5\n",
    "retrieved_idxs = cnn.find_knn(query_img, k)\n",
    "\n",
    "# optional: rerank results with a different method\n",
    "reranked_idxs = hog.sort_by_distance(query_img, retrieved_idxs)\n",
    "\n",
    "imgs = get_neighbour_imgs(\n",
    "    query_img, dataset.train_array_path, retrieved_idxs, k, body_part\n",
    ")\n",
    "imgs = make_image_grid(imgs, n_per_row=k+1)\n",
    "\n",
    "plt.figure()\n",
    "plt.title(\"Top 5 most similar images to the query image\")\n",
    "plt.imshow(np.transpose(imgs, (1, 2, 0)))"
   ]
  }
 ],
 "metadata": {
  "kernelspec": {
   "display_name": ".dl-venv-3.7",
   "language": "python",
   "name": ".dl-venv-3.7"
  },
  "language_info": {
   "codemirror_mode": {
    "name": "ipython",
    "version": 3
   },
   "file_extension": ".py",
   "mimetype": "text/x-python",
   "name": "python",
   "nbconvert_exporter": "python",
   "pygments_lexer": "ipython3",
   "version": "3.7.6"
  }
 },
 "nbformat": 4,
 "nbformat_minor": 4
}
